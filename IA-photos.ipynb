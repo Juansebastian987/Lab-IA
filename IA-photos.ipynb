{
 "cells": [
  {
   "cell_type": "code",
   "execution_count": 199,
   "metadata": {},
   "outputs": [],
   "source": [
    "from sklearn.datasets import load_digits"
   ]
  },
  {
   "cell_type": "code",
   "execution_count": 200,
   "metadata": {},
   "outputs": [
    {
     "data": {
      "text/plain": [
       "numpy.ndarray"
      ]
     },
     "execution_count": 200,
     "metadata": {},
     "output_type": "execute_result"
    }
   ],
   "source": [
    "digits, target = load_digits(return_X_y=True)\n",
    "type(digits)"
   ]
  },
  {
   "cell_type": "code",
   "execution_count": 201,
   "metadata": {},
   "outputs": [],
   "source": [
    "digits_square = digits.reshape(-1, 8, 8)"
   ]
  },
  {
   "cell_type": "code",
   "execution_count": 202,
   "metadata": {},
   "outputs": [],
   "source": [
    "import matplotlib.pyplot as plt"
   ]
  },
  {
   "cell_type": "code",
   "execution_count": 203,
   "metadata": {},
   "outputs": [
    {
     "data": {
      "image/png": "[encoded data removed]",
      "text/plain": [
       "<Figure size 432x288 with 4 Axes>"
      ]
     },
     "metadata": {
      "needs_background": "light"
     },
     "output_type": "display_data"
    }
   ],
   "source": [
    "\n",
    "plt.figure()\n",
    "\n",
    "plt.subplot(2,2,1)\n",
    "plt.imshow(digits_square[0])\n",
    "\n",
    "plt.subplot(2,2,2)\n",
    "plt.imshow(digits_square[1])\n",
    "\n",
    "plt.subplot(2,2,3)\n",
    "plt.imshow(digits_square[2])\n",
    "\n",
    "plt.subplot(2,2,4)\n",
    "plt.imshow(digits_square[3])\n",
    "\n",
    "plt.show()"
   ]
  },
  {
   "cell_type": "code",
   "execution_count": 204,
   "metadata": {},
   "outputs": [],
   "source": [
    "import random\n",
    "import numpy as np"
   ]
  },
  {
   "cell_type": "code",
   "execution_count": 205,
   "metadata": {},
   "outputs": [
    {
     "name": "stdout",
     "output_type": "stream",
     "text": [
      "[[ 0.  0.  0. ... 16.  2.  0.]\n",
      " [ 0.  0.  7. ... 16. 16.  6.]\n",
      " [ 0.  0.  0. ...  6.  0.  0.]\n",
      " ...\n",
      " [ 0.  0.  7. ...  0.  0.  0.]\n",
      " [ 0.  0.  1. ... 13.  1.  0.]\n",
      " [ 0.  0.  9. ...  8.  1.  0.]]\n",
      "[8 2 2 8 8 2 8 8 2 2 8 2 2 8 2 8 8 2 8 8 2 2 8 8 2 2 8 8 2 2 8 2 8 8 2 8 8\n",
      " 8 2 8 8 2 2 2 2 8 2 2 8 8 8 2 8 8 2 2 2 2 8 2 8 2 2 8 8 8 8 2 2 8 8 2 8 8\n",
      " 8 2 2 2 2 8 2 8 2 2 8 8 8 8 2 8 8 8 8 2 2 8 2 8 2 8 8 8 2]\n"
     ]
    },
    {
     "data": {
      "text/plain": [
       "<matplotlib.image.AxesImage at 0x27b556d8548>"
      ]
     },
     "execution_count": 205,
     "metadata": {},
     "output_type": "execute_result"
    },
    {
     "data": {
      "image/png": "[encoded data removed]",
      "text/plain": [
       "<Figure size 432x288 with 1 Axes>"
      ]
     },
     "metadata": {
      "needs_background": "light"
     },
     "output_type": "display_data"
    }
   ],
   "source": [
    "def generate_random_indices(percentage, class1, class2):\n",
    "    indices_of_class1 = np.nonzero(target == class1)[0]\n",
    "    indices_of_class2 = np.nonzero(target == class2)[0]\n",
    "\n",
    "    min_length = min(len(indices_of_class1), len(indices_of_class2)) - 1\n",
    "\n",
    "    indices_of_class = np.concatenate((indices_of_class1[:min_length], indices_of_class2[:min_length]))\n",
    "\n",
    "    return random.sample(indices_of_class.tolist(),k=int(len(indices_of_class)*percentage))\n",
    "\n",
    "def get_random_data(class1, class2):\n",
    "    indices = generate_random_indices(0.3, class1, class2)\n",
    "    return digits[indices,:], target[indices]\n",
    "\n",
    "digits_sample, target_sample = get_random_data(2,8)\n",
    "print(digits_sample)\n",
    "print(target_sample)\n",
    "plt.imshow(digits_sample.reshape((-1, 8, 8))[0])"
   ]
  },
  {
   "cell_type": "code",
   "execution_count": 206,
   "metadata": {},
   "outputs": [],
   "source": [
    "#Esta es la matriz base con esto tengo una idea de como tiene que ser el zero para que me lo identifique al compararlo \n",
    "#con otro numero\n",
    "zeroM=[\n",
    "    [0,0,0,16,16,0,0,0], [0,16,16,16,16,16,0,0], [0,16,16,0,0,16,16,0], [0,16,16,0,0,16,16,0],  [0,16,16,0,0,16,16,0],\n",
    "    [0,16,16,0,0,16,16,0], [0,0,16,0,0,16,0,0], [0,0,16,16,16,16,0,0]\n",
    "]\n",
    "\n",
    "#Esta es la matriz base con esto tengo una idea de como tiene que ser el uno para que me lo identifique al compararlo \n",
    "#con otro numero\n",
    "oneM=[ [0,0,0,16,16,16,0,0], [0,0,16,16,16,16,0,0], [0,16,16,16,16,16,0,0], [0,0,0,16,16,16,0,0], [0,0,0,16,16,16,0,0],\n",
    "    [0,0,0,16,16,16,0,0], [0,0,0,16,16,16,0,0], [0,0,16,16,16,16,16,0] ]"
   ]
  },
  {
   "cell_type": "code",
   "execution_count": 207,
   "metadata": {},
   "outputs": [],
   "source": [
    "#Con este metodo \"limpio\" los campos que no son blancos pero los puedo tomar como tal para mi posterior comparación\n",
    "#con la matriz modelo, el zero es un valor que defino, en mi caso mas adelante como que desde 8 ya lo puedo considerar\n",
    "#como un blanco.\n",
    "def norm(matriz,zero):\n",
    "    norm= np.zeros((8,8))\n",
    "    for f in range(len(matriz)):\n",
    "        for c in range(len(matriz[f])):\n",
    "            if (matriz[f][c]>= zero):\n",
    "                norm[f][c]=16\n",
    "            else:\n",
    "                norm[f][c]=0\n",
    "    return norm"
   ]
  },
  {
   "cell_type": "code",
   "execution_count": 208,
   "metadata": {},
   "outputs": [],
   "source": [
    "#Este metodo es el encargado de dar la predición(comparación) entre la matriz normalizada y la matriz base.\n",
    "def predict(norm,base):\n",
    "    i=0\n",
    "    for f in range(len(norm)):\n",
    "        for c in range(len(norm[f])):\n",
    "            if (norm[f][c]==base[f][c]):\n",
    "                i+=1\n",
    "    return i/64"
   ]
  },
  {
   "cell_type": "code",
   "execution_count": 209,
   "metadata": {},
   "outputs": [
    {
     "data": {
      "text/plain": [
       "<matplotlib.image.AxesImage at 0x27b5573fc08>"
      ]
     },
     "execution_count": 209,
     "metadata": {},
     "output_type": "execute_result"
    },
    {
     "data": {
      "image/png": "[encoded data removed]",
      "text/plain": [
       "<Figure size 432x288 with 1 Axes>"
      ]
     },
     "metadata": {
      "needs_background": "light"
     },
     "output_type": "display_data"
    }
   ],
   "source": [
    "element=digits_sample.reshape((-1, 8, 8))[80] #le doy una nueva \"forma\" a la array para sacar un elemento y mostrarlo\n",
    "plt.imshow(element)"
   ]
  },
  {
   "cell_type": "code",
   "execution_count": 210,
   "metadata": {},
   "outputs": [],
   "source": [
    "normalized=norm(element,8) #Aqui normalizado el elemento"
   ]
  },
  {
   "cell_type": "code",
   "execution_count": 211,
   "metadata": {},
   "outputs": [],
   "source": [
    "def accuracy():\n",
    "    print(predict(normalized,zeroM)) #Este es para saber la presición que se tiene un elemento con el valor cero (base)\n",
    "    print(predict(normalized,oneM))  #Este es para saber la presición que se tiene un elemento con el valor uno (base)"
   ]
  },
  {
   "cell_type": "code",
   "execution_count": 212,
   "metadata": {},
   "outputs": [
    {
     "name": "stdout",
     "output_type": "stream",
     "text": [
      "0.609375\n",
      "0.828125\n"
     ]
    }
   ],
   "source": [
    "accuracy() #Exactitud de mi predición, el primero para el valor cero y el siguiente para el valor uno"
   ]
  }
 ],
 "metadata": {
  "kernelspec": {
   "display_name": "Python 3",
   "language": "python",
   "name": "python3"
  },
  "language_info": {
   "codemirror_mode": {
    "name": "ipython",
    "version": 3
   },
   "file_extension": ".py",
   "mimetype": "text/x-python",
   "name": "python",
   "nbconvert_exporter": "python",
   "pygments_lexer": "ipython3",
   "version": "3.7.6"
  }
 },
 "nbformat": 4,
 "nbformat_minor": 2
}
